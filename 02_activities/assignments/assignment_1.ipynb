{
 "cells": [
  {
   "cell_type": "markdown",
   "metadata": {},
   "source": [
    "# Working with parquet files\n",
    "\n",
    "## Objective\n",
    "\n",
    "+ In this assignment, we will use the data downloaded with the module `data_manager` to create features.\n",
    "\n",
    "(11 pts total)\n",
    "\n",
    "## Prerequisites\n",
    "\n",
    "+ This notebook assumes that price data is available to you in the environment variable `PRICE_DATA`. If you have not done so, then execute the notebook `01_materials/labs/2_data_engineering.ipynb` to create this data set.\n"
   ]
  },
  {
   "cell_type": "markdown",
   "metadata": {},
   "source": [
    "+ Load the environment variables using dotenv. (1 pt)"
   ]
  },
  {
   "cell_type": "code",
   "execution_count": 9,
   "metadata": {},
   "outputs": [
    {
     "name": "stdout",
     "output_type": "stream",
     "text": [
      "The dotenv extension is already loaded. To reload it, use:\n",
      "  %reload_ext dotenv\n"
     ]
    }
   ],
   "source": [
    "# Write your code below.\n",
    "%load_ext dotenv\n",
    "%dotenv \n"
   ]
  },
  {
   "cell_type": "markdown",
   "metadata": {},
   "source": [
    "+ Load the environment variable `PRICE_DATA`.\n",
    "+ Use [glob](https://docs.python.org/3/library/glob.html) to find the path of all parquet files in the directory `PRICE_DATA`.\n",
    "\n",
    "(1pt)"
   ]
  },
  {
   "cell_type": "code",
   "execution_count": 41,
   "metadata": {},
   "outputs": [],
   "source": [
    "import dask.dataframe as dd"
   ]
  },
  {
   "cell_type": "code",
   "execution_count": 42,
   "metadata": {},
   "outputs": [
    {
     "name": "stdout",
     "output_type": "stream",
     "text": [
      "The number of parquet files are 558 And the path is  ../../05_src/data/prices/\n"
     ]
    }
   ],
   "source": [
    "import os\n",
    "from glob import glob\n",
    "from dotenv import load_dotenv\n",
    "load_dotenv()\n",
    "# Write your code below.\n",
    "PRICE_DATA = os.getenv(\"PRICE_DATA\")\n",
    "parquet_files = glob(os.path.join(PRICE_DATA, \"*/*.parquet\"))\n",
    "dd_px = dd.read_parquet(parquet_files).set_index(\"ticker\")\n",
    "print(\"The number of parquet files are\",len(parquet_files),\"And the path is \",PRICE_DATA)"
   ]
  },
  {
   "cell_type": "markdown",
   "metadata": {},
   "source": [
    "For each ticker and using Dask, do the following:\n",
    "\n",
    "+ Add lags for variables Close and Adj_Close.\n",
    "+ Add returns based on Adjusted Close:\n",
    "    \n",
    "    - `returns`: (Adj Close / Adj Close_lag) - 1\n",
    "\n",
    "+ Add the following range: \n",
    "\n",
    "    - `hi_lo_range`: this is the day's High minus Low.\n",
    "\n",
    "+ Assign the result to `dd_feat`.\n",
    "\n",
    "(4 pt)"
   ]
  },
  {
   "cell_type": "code",
   "execution_count": 55,
   "metadata": {},
   "outputs": [
    {
     "name": "stderr",
     "output_type": "stream",
     "text": [
      "C:\\Users\\clair\\AppData\\Local\\Temp\\ipykernel_29648\\4280704272.py:2: UserWarning: `meta` is not specified, inferred from partial data. Please provide `meta` if the result is unexpected.\n",
      "  Before: .apply(func)\n",
      "  After:  .apply(func, meta={'x': 'f8', 'y': 'f8'}) for dataframe result\n",
      "  or:     .apply(func, meta=('x', 'f8'))            for series result\n",
      "  dd_feat = (dd_px.groupby('ticker', group_keys=False).apply(\n"
     ]
    },
    {
     "name": "stdout",
     "output_type": "stream",
     "text": [
      "                            Date       Open       High        Low      Close  \\\n",
      "ticker                                                                         \n",
      "A      2013-12-02 00:00:00-05:00  34.875483  35.005930  34.640675  34.705898   \n",
      "A      2013-12-03 00:00:00-05:00  34.516744  34.679807  34.281936  34.523266   \n",
      "A      2013-12-04 00:00:00-05:00  34.464567  35.110291  34.386300  34.947227   \n",
      "A      2013-12-05 00:00:00-05:00  34.797202  35.090711  34.647187  34.895039   \n",
      "A      2013-12-06 00:00:00-05:00  35.064621  35.827743  35.064621  35.762520   \n",
      "\n",
      "         Volume  Dividends  Stock Splits  year  Close_lag_1   returns  \\\n",
      "ticker                                                                  \n",
      "A       2039962        0.0           0.0  2013          NaN       NaN   \n",
      "A       3462706        0.0           0.0  2013    34.705898 -0.005262   \n",
      "A       3377288        0.0           0.0  2013    34.523266  0.012280   \n",
      "A       2530939        0.0           0.0  2013    34.947227 -0.001493   \n",
      "A       4268513        0.0           0.0  2013    34.895039  0.024860   \n",
      "\n",
      "        positive_return  hi_lo_range  \n",
      "ticker                                \n",
      "A                     0     0.365254  \n",
      "A                     0     0.397871  \n",
      "A                     1     0.723990  \n",
      "A                     0     0.443525  \n",
      "A                     1     0.763122  \n"
     ]
    }
   ],
   "source": [
    "# Write your code below.\n",
    "dd_feat = (dd_px.groupby('ticker', group_keys=False).apply(\n",
    "    lambda x: x.assign(Close_lag_1 = x['Close'].shift(1))\n",
    ").assign(\n",
    "    returns = lambda x: x['Close']/x['Close_lag_1'] - 1\n",
    ").assign(\n",
    "    positive_return = lambda x: (x['returns'] > 0)*1\n",
    ")).assign(hi_lo_range=lambda x: x['High']-x['Low'])\n",
    "print(dd_feat.head())"
   ]
  },
  {
   "cell_type": "markdown",
   "metadata": {},
   "source": [
    "+ Convert the Dask data frame to a pandas data frame. \n",
    "+ Add a rolling average return calculation with a window of 10 days.\n",
    "+ *Tip*: Consider using `.rolling(10).mean()`.\n",
    "\n",
    "(3 pt)"
   ]
  },
  {
   "cell_type": "code",
   "execution_count": 54,
   "metadata": {},
   "outputs": [
    {
     "data": {
      "text/html": [
       "<div>\n",
       "<style scoped>\n",
       "    .dataframe tbody tr th:only-of-type {\n",
       "        vertical-align: middle;\n",
       "    }\n",
       "\n",
       "    .dataframe tbody tr th {\n",
       "        vertical-align: top;\n",
       "    }\n",
       "\n",
       "    .dataframe thead th {\n",
       "        text-align: right;\n",
       "    }\n",
       "</style>\n",
       "<table border=\"1\" class=\"dataframe\">\n",
       "  <thead>\n",
       "    <tr style=\"text-align: right;\">\n",
       "      <th></th>\n",
       "      <th>Date</th>\n",
       "      <th>Open</th>\n",
       "      <th>High</th>\n",
       "      <th>Low</th>\n",
       "      <th>Close</th>\n",
       "      <th>Volume</th>\n",
       "      <th>Dividends</th>\n",
       "      <th>Stock Splits</th>\n",
       "      <th>year</th>\n",
       "      <th>Close_lag_1</th>\n",
       "      <th>returns</th>\n",
       "      <th>positive_return</th>\n",
       "      <th>hi_lo_range</th>\n",
       "      <th>rolling_avg_return</th>\n",
       "    </tr>\n",
       "    <tr>\n",
       "      <th>ticker</th>\n",
       "      <th></th>\n",
       "      <th></th>\n",
       "      <th></th>\n",
       "      <th></th>\n",
       "      <th></th>\n",
       "      <th></th>\n",
       "      <th></th>\n",
       "      <th></th>\n",
       "      <th></th>\n",
       "      <th></th>\n",
       "      <th></th>\n",
       "      <th></th>\n",
       "      <th></th>\n",
       "      <th></th>\n",
       "    </tr>\n",
       "  </thead>\n",
       "  <tbody>\n",
       "    <tr>\n",
       "      <th>A</th>\n",
       "      <td>2013-12-02 00:00:00-05:00</td>\n",
       "      <td>34.875483</td>\n",
       "      <td>35.005930</td>\n",
       "      <td>34.640675</td>\n",
       "      <td>34.705898</td>\n",
       "      <td>2039962</td>\n",
       "      <td>0.0</td>\n",
       "      <td>0.0</td>\n",
       "      <td>2013</td>\n",
       "      <td>NaN</td>\n",
       "      <td>NaN</td>\n",
       "      <td>0</td>\n",
       "      <td>0.365254</td>\n",
       "      <td>NaN</td>\n",
       "    </tr>\n",
       "    <tr>\n",
       "      <th>A</th>\n",
       "      <td>2013-12-03 00:00:00-05:00</td>\n",
       "      <td>34.516744</td>\n",
       "      <td>34.679807</td>\n",
       "      <td>34.281936</td>\n",
       "      <td>34.523266</td>\n",
       "      <td>3462706</td>\n",
       "      <td>0.0</td>\n",
       "      <td>0.0</td>\n",
       "      <td>2013</td>\n",
       "      <td>34.705898</td>\n",
       "      <td>-0.005262</td>\n",
       "      <td>0</td>\n",
       "      <td>0.397871</td>\n",
       "      <td>NaN</td>\n",
       "    </tr>\n",
       "    <tr>\n",
       "      <th>A</th>\n",
       "      <td>2013-12-04 00:00:00-05:00</td>\n",
       "      <td>34.464567</td>\n",
       "      <td>35.110291</td>\n",
       "      <td>34.386300</td>\n",
       "      <td>34.947227</td>\n",
       "      <td>3377288</td>\n",
       "      <td>0.0</td>\n",
       "      <td>0.0</td>\n",
       "      <td>2013</td>\n",
       "      <td>34.523266</td>\n",
       "      <td>0.012280</td>\n",
       "      <td>1</td>\n",
       "      <td>0.723990</td>\n",
       "      <td>NaN</td>\n",
       "    </tr>\n",
       "    <tr>\n",
       "      <th>A</th>\n",
       "      <td>2013-12-05 00:00:00-05:00</td>\n",
       "      <td>34.797202</td>\n",
       "      <td>35.090711</td>\n",
       "      <td>34.647187</td>\n",
       "      <td>34.895039</td>\n",
       "      <td>2530939</td>\n",
       "      <td>0.0</td>\n",
       "      <td>0.0</td>\n",
       "      <td>2013</td>\n",
       "      <td>34.947227</td>\n",
       "      <td>-0.001493</td>\n",
       "      <td>0</td>\n",
       "      <td>0.443525</td>\n",
       "      <td>NaN</td>\n",
       "    </tr>\n",
       "    <tr>\n",
       "      <th>A</th>\n",
       "      <td>2013-12-06 00:00:00-05:00</td>\n",
       "      <td>35.064621</td>\n",
       "      <td>35.827743</td>\n",
       "      <td>35.064621</td>\n",
       "      <td>35.762520</td>\n",
       "      <td>4268513</td>\n",
       "      <td>0.0</td>\n",
       "      <td>0.0</td>\n",
       "      <td>2013</td>\n",
       "      <td>34.895039</td>\n",
       "      <td>0.024860</td>\n",
       "      <td>1</td>\n",
       "      <td>0.763122</td>\n",
       "      <td>NaN</td>\n",
       "    </tr>\n",
       "  </tbody>\n",
       "</table>\n",
       "</div>"
      ],
      "text/plain": [
       "                            Date       Open       High        Low      Close  \\\n",
       "ticker                                                                         \n",
       "A      2013-12-02 00:00:00-05:00  34.875483  35.005930  34.640675  34.705898   \n",
       "A      2013-12-03 00:00:00-05:00  34.516744  34.679807  34.281936  34.523266   \n",
       "A      2013-12-04 00:00:00-05:00  34.464567  35.110291  34.386300  34.947227   \n",
       "A      2013-12-05 00:00:00-05:00  34.797202  35.090711  34.647187  34.895039   \n",
       "A      2013-12-06 00:00:00-05:00  35.064621  35.827743  35.064621  35.762520   \n",
       "\n",
       "         Volume  Dividends  Stock Splits  year  Close_lag_1   returns  \\\n",
       "ticker                                                                  \n",
       "A       2039962        0.0           0.0  2013          NaN       NaN   \n",
       "A       3462706        0.0           0.0  2013    34.705898 -0.005262   \n",
       "A       3377288        0.0           0.0  2013    34.523266  0.012280   \n",
       "A       2530939        0.0           0.0  2013    34.947227 -0.001493   \n",
       "A       4268513        0.0           0.0  2013    34.895039  0.024860   \n",
       "\n",
       "        positive_return  hi_lo_range  rolling_avg_return  \n",
       "ticker                                                    \n",
       "A                     0     0.365254                 NaN  \n",
       "A                     0     0.397871                 NaN  \n",
       "A                     1     0.723990                 NaN  \n",
       "A                     0     0.443525                 NaN  \n",
       "A                     1     0.763122                 NaN  "
      ]
     },
     "execution_count": 54,
     "metadata": {},
     "output_type": "execute_result"
    }
   ],
   "source": [
    "# Write your code below.\n",
    "\n",
    "dd_pd=dd_feat.compute()\n",
    "dd_pd = (dd_pd.groupby('ticker', group_keys=False).apply(\n",
    "    lambda x: x.assign(rolling_avg_return = x['returns'].rolling(10).mean())\n",
    "))\n",
    "dd_pd.head()"
   ]
  },
  {
   "cell_type": "markdown",
   "metadata": {},
   "source": [
    "Please comment:\n",
    "\n",
    "+ Was it necessary to convert to pandas to calculate the moving average return?\n",
    "+ Would it have been better to do it in Dask? Why?\n",
    "\n",
    "(1 pt)"
   ]
  },
  {
   "cell_type": "markdown",
   "metadata": {},
   "source": [
    "It was not really necessary to convert pandas for calculating because dask have rolling calculation method.\n",
    "Dask is great to use when we have a large data set, However it is slow.\n",
    "I would use Pandas if I have small data set for the speed and memory. "
   ]
  },
  {
   "cell_type": "markdown",
   "metadata": {},
   "source": [
    "## Criteria\n",
    "\n",
    "The [rubric](./assignment_1_rubric_clean.xlsx) contains the criteria for grading."
   ]
  },
  {
   "cell_type": "markdown",
   "metadata": {},
   "source": [
    "## Submission Information\n",
    "\n",
    "🚨 **Please review our [Assignment Submission Guide](https://github.com/UofT-DSI/onboarding/blob/main/onboarding_documents/submissions.md)** 🚨 for detailed instructions on how to format, branch, and submit your work. Following these guidelines is crucial for your submissions to be evaluated correctly.\n",
    "\n",
    "### Submission Parameters:\n",
    "* Submission Due Date: `HH:MM AM/PM - DD/MM/YYYY`\n",
    "* The branch name for your repo should be: `assignment-1`\n",
    "* What to submit for this assignment:\n",
    "    * This Jupyter Notebook (assignment_1.ipynb) should be populated and should be the only change in your pull request.\n",
    "* What the pull request link should look like for this assignment: `https://github.com/<your_github_username>/production/pull/<pr_id>`\n",
    "    * Open a private window in your browser. Copy and paste the link to your pull request into the address bar. Make sure you can see your pull request properly. This helps the technical facilitator and learning support staff review your submission easily.\n",
    "\n",
    "Checklist:\n",
    "- [ ] Created a branch with the correct naming convention.\n",
    "- [ ] Ensured that the repository is public.\n",
    "- [ ] Reviewed the PR description guidelines and adhered to them.\n",
    "- [ ] Verify that the link is accessible in a private browser window.\n",
    "\n",
    "If you encounter any difficulties or have questions, please don't hesitate to reach out to our team via our Slack at `#cohort-3-help`. Our Technical Facilitators and Learning Support staff are here to help you navigate any challenges."
   ]
  }
 ],
 "metadata": {
  "kernelspec": {
   "display_name": "dsi_participant",
   "language": "python",
   "name": "python3"
  },
  "language_info": {
   "codemirror_mode": {
    "name": "ipython",
    "version": 3
   },
   "file_extension": ".py",
   "mimetype": "text/x-python",
   "name": "python",
   "nbconvert_exporter": "python",
   "pygments_lexer": "ipython3",
   "version": "3.9.15"
  }
 },
 "nbformat": 4,
 "nbformat_minor": 2
}
